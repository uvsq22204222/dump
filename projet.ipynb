{
 "cells": [
  {
   "attachments": {},
   "cell_type": "markdown",
   "metadata": {},
   "source": [
    "## Outils pour la manipulation d'images et librairies.\n"
   ]
  },
  {
   "cell_type": "code",
   "execution_count": 2,
   "metadata": {},
   "outputs": [],
   "source": [
    "import PIL\n",
    "from PIL import Image\n",
    "import numpy as np\n",
    "import scipy as sp\n",
    "import os\n",
    "from math import log10, sqrt\n",
    "\n",
    "def load(filename):\n",
    "    toLoad= Image.open(filename)\n",
    "    return np.asarray(toLoad)\n",
    "\n",
    "\n",
    "def psnr(original, compressed):\n",
    "    mse = np.mean((original - compressed) ** 2)\n",
    "    max_pixel = 255.0\n",
    "    psnr = 20 * log10(max_pixel / sqrt(mse))\n",
    "    return psnr\n",
    "\n",
    "def dct2(a):\n",
    "    return sp.fft.dct( sp.fft.dct( a, axis=0, norm='ortho' ), axis=1, norm='ortho' )\n",
    "\n",
    "def idct2(a):\n",
    "    return sp.fft.idct( sp.fft.idct( a, axis=0 , norm='ortho'), axis=1 , norm='ortho')\n",
    "\n"
   ]
  },
  {
   "attachments": {},
   "cell_type": "markdown",
   "metadata": {},
   "source": [
    "## Normalisation de l'image (YCbCr et padding)"
   ]
  },
  {
   "cell_type": "code",
   "execution_count": 3,
   "metadata": {},
   "outputs": [],
   "source": [
    "def conversion_ycbcr(img):\n",
    "    #fonction qui transforme une image rgb en ycbcr\n",
    "    new_img = np.empty((img.shape), dtype=np.uint8)\n",
    "    for i in range(img.shape[0]):\n",
    "        for j in range(img.shape[1]):\n",
    "            y=0.299*img[i,j,0]+ 0.587*img[i,j,1]+0.114*img[i,j,2]\n",
    "            cb=-0.1687*img[i,j,0]-0.3313*img[i,j,1]+0.5*img[i,j,2] + 128\n",
    "            cr=0.5*img[i,j,0]- 0.4187*img[i,j,1]-0.0813*img[i,j,2] + 128\n",
    "            new_img[i,j]=(y,cb,cr)\n",
    "\n",
    "    return new_img\n",
    "            "
   ]
  },
  {
   "cell_type": "code",
   "execution_count": 4,
   "metadata": {},
   "outputs": [],
   "source": [
    "def conversion_rgb(img):\n",
    "    #fonction qui transforme une image ycbcr en rgb\n",
    "    img= np.float64(img.copy())\n",
    "    new_img = np.empty(img.shape, dtype=np.uint8)\n",
    "    \n",
    "    for i in range(img.shape[0]):\n",
    "        for j in range(img.shape[1]):\n",
    "            r=np.clip(img[i,j,0]+ 1.402*(img[i,j,2]-128),0,255)\n",
    "            g=np.clip(img[i,j,0]-0.34414*(img[i,j,1]-128)-0.71414*(img[i,j,2] - 128),0,255)\n",
    "            b=np.clip(img[i,j,0]+1.772*(img[i,j,1]- 128),0,255)\n",
    "            new_img[i,j]=(r,g,b)\n",
    "\n",
    "    return new_img"
   ]
  },
  {
   "cell_type": "code",
   "execution_count": 5,
   "metadata": {},
   "outputs": [],
   "source": [
    "def RGBYCBCR(img):\n",
    "    new_img = np.empty((img.shape),dtype=np.uint8)\n",
    "    new_img[:,:,0]= 0.299*img[:,:,0]+ 0.587*img[:,:,1]+0.114*img[:,:,2]\n",
    "    new_img[:,:,0]= -0.1687*img[:,:,0]-0.3313*img[:,:,1]+0.5*img[:,:,2] + 128\n",
    "    new_img[:,:,0]= 0.5*img[:,:,0]- 0.4187*img[:,:,1]-0.0813*img[:,:,2] + 128\n",
    "    return new_img"
   ]
  },
  {
   "cell_type": "code",
   "execution_count": 9,
   "metadata": {},
   "outputs": [],
   "source": [
    "def pad8(val):\n",
    "    return val + (8- val%8)%8"
   ]
  },
  {
   "cell_type": "code",
   "execution_count": 6,
   "metadata": {},
   "outputs": [],
   "source": [
    "def padding(img):\n",
    "    #fonction qui réalise le padding, ajoute des lignes et des colonnes de pixel noirs en bas et à droite de l’image\n",
    "    new_img = np.empty((pad8(img.shape[0]),pad8(img.shape[1]),3),dtype=np.uint8)\n",
    "    new_img[:,img.shape[0],:img.shape[1]]= img\n",
    "\n",
    "    return new_img\n",
    "\n"
   ]
  },
  {
   "cell_type": "code",
   "execution_count": 7,
   "metadata": {},
   "outputs": [
    {
     "ename": "IndentationError",
     "evalue": "expected an indented block (1352732535.py, line 3)",
     "output_type": "error",
     "traceback": [
      "\u001b[1;36m  Cell \u001b[1;32mIn [7], line 3\u001b[1;36m\u001b[0m\n\u001b[1;33m    \u001b[0m\n\u001b[1;37m    ^\u001b[0m\n\u001b[1;31mIndentationError\u001b[0m\u001b[1;31m:\u001b[0m expected an indented block\n"
     ]
    }
   ],
   "source": [
    "def unpadding(img):\n",
    "    #fonction qui enlève le padding\n",
    "    "
   ]
  },
  {
   "cell_type": "code",
   "execution_count": 14,
   "metadata": {},
   "outputs": [],
   "source": [
    "def sous_enchantiollonnage(m):\n",
    "    \"\"\"Implplemente la fonction qui sous- ́echantillonne une matrice \"\"\"\n",
    "    \n",
    "    "
   ]
  },
  {
   "attachments": {},
   "cell_type": "markdown",
   "metadata": {},
   "source": [
    "## Découpage en blocs et compression"
   ]
  },
  {
   "cell_type": "code",
   "execution_count": null,
   "metadata": {},
   "outputs": [],
   "source": []
  },
  {
   "attachments": {},
   "cell_type": "markdown",
   "metadata": {},
   "source": [
    "## Écriture dans un fichier"
   ]
  },
  {
   "cell_type": "code",
   "execution_count": null,
   "metadata": {},
   "outputs": [],
   "source": []
  },
  {
   "attachments": {},
   "cell_type": "markdown",
   "metadata": {},
   "source": [
    "## Décompression"
   ]
  },
  {
   "cell_type": "code",
   "execution_count": null,
   "metadata": {},
   "outputs": [],
   "source": []
  },
  {
   "attachments": {},
   "cell_type": "markdown",
   "metadata": {},
   "source": [
    "## Tests "
   ]
  },
  {
   "cell_type": "code",
   "execution_count": 15,
   "metadata": {},
   "outputs": [],
   "source": [
    "test = load(\"test.png\")\n",
    "#Image.fromarray(conversion_ycbcr(test),mode='YCbCr').show()\n",
    "#Image.fromarray(conversion_rgb(conversion_ycbcr(test)),mode='RGB').show()\n",
    "#Image.fromarray(padding(test)).show()\n",
    "Image.fromarray(sous_enchantiollonnage(test)).show()"
   ]
  }
 ],
 "metadata": {
  "kernelspec": {
   "display_name": "Python 3",
   "language": "python",
   "name": "python3"
  },
  "language_info": {
   "codemirror_mode": {
    "name": "ipython",
    "version": 3
   },
   "file_extension": ".py",
   "mimetype": "text/x-python",
   "name": "python",
   "nbconvert_exporter": "python",
   "pygments_lexer": "ipython3",
   "version": "3.9.12"
  },
  "orig_nbformat": 4,
  "vscode": {
   "interpreter": {
    "hash": "e5f921d2cbc40cc05b5a24db6ba0e6b62c33b50cc3ec097b0c624e897b5a9797"
   }
  }
 },
 "nbformat": 4,
 "nbformat_minor": 2
}
